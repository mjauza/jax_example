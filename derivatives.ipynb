{
  "nbformat": 4,
  "nbformat_minor": 0,
  "metadata": {
    "colab": {
      "provenance": [],
      "toc_visible": true,
      "gpuType": "T4",
      "authorship_tag": "ABX9TyM7zhYLkn1MXIZruMLdY0D3",
      "include_colab_link": true
    },
    "kernelspec": {
      "name": "python3",
      "display_name": "Python 3"
    },
    "language_info": {
      "name": "python"
    },
    "accelerator": "GPU"
  },
  "cells": [
    {
      "cell_type": "markdown",
      "metadata": {
        "id": "view-in-github",
        "colab_type": "text"
      },
      "source": [
        "<a href=\"https://colab.research.google.com/github/mjauza/jax_example/blob/main/derivatives.ipynb\" target=\"_parent\"><img src=\"https://colab.research.google.com/assets/colab-badge.svg\" alt=\"Open In Colab\"/></a>"
      ]
    },
    {
      "cell_type": "code",
      "execution_count": 2,
      "metadata": {
        "id": "kazKtiPfMyUU"
      },
      "outputs": [],
      "source": [
        "import jax.numpy as jnp\n",
        "from jax import grad, jit, vmap\n",
        "from jax import random\n",
        "from scipy.stats import norm\n",
        "import numpy as np"
      ]
    },
    {
      "cell_type": "markdown",
      "source": [
        "# Black Scholes model"
      ],
      "metadata": {
        "id": "JlwAlUMEeyHy"
      }
    },
    {
      "cell_type": "code",
      "source": [
        "def sim_gbm(n_timestamp, N_paths, mu, sigma, dt = 1/365, S0 = 1):\n",
        "  key = random.PRNGKey(0)\n",
        "  Z = random.normal(key, (n_timestamp,N_paths))\n",
        "  arr = jnp.exp((mu - sigma**2/2)*dt + sigma*(dt)**0.5*Z)\n",
        "  S0_arr = jnp.array([S0]*N_paths).reshape(1,-1)\n",
        "  S = jnp.concatenate((S0_arr, arr), axis=0)\n",
        "  S_arr = jnp.cumprod(S, axis = 0)\n",
        "  return S_arr\n",
        "\n",
        "def call_option_mc(T, N_paths, r, sigma, strike, S0 = 1):\n",
        "  # simualate S at maturity\n",
        "  S_path = sim_gbm(1, N_paths, mu=r, sigma=sigma, dt = 1, S0 = S0)\n",
        "  ST = S_path[-1, :]\n",
        "  payout = jnp.maximum(0, ST - strike)\n",
        "  price = jnp.exp(-r*T)*jnp.mean(payout)\n",
        "  return jnp.asarray(price)\n",
        "\n",
        "def call_option_bs(T, r, sigma, strike, S0 = 1):\n",
        "  d1 = 1/(sigma*np.sqrt(T))*(np.log(S0/strike) + (r - sigma**2/2)*T)\n",
        "  d2 = d1 - sigma*np.sqrt(T)\n",
        "  price = norm.cdf(d1)*S0 - norm.cdf(d2)*strike*np.exp(-r*T)\n",
        "  return price\n",
        "\n"
      ],
      "metadata": {
        "id": "WNQQsZiaM157"
      },
      "execution_count": 3,
      "outputs": []
    },
    {
      "cell_type": "code",
      "source": [
        "T = 1\n",
        "r = 0.05\n",
        "sigma = 0.2\n",
        "S0 = 100\n",
        "strike = 90\n",
        "call_mc = call_option_mc(T = T, N_paths=100_000, r=r, sigma=sigma, strike=strike, S0 = S0)\n",
        "call_bs = call_option_bs(T=T, r=r, sigma=sigma, strike=strike, S0=S0)"
      ],
      "metadata": {
        "id": "b0oHzSiJM7lc"
      },
      "execution_count": 4,
      "outputs": []
    },
    {
      "cell_type": "code",
      "source": [
        "print(f\"BS price: {call_bs} ; MC price: {call_mc}\")"
      ],
      "metadata": {
        "colab": {
          "base_uri": "https://localhost:8080/"
        },
        "id": "KqeE5TCrZXFJ",
        "outputId": "6733326f-45e5-4fcc-d6da-3d3c8b23aadc"
      },
      "execution_count": 5,
      "outputs": [
        {
          "output_type": "stream",
          "name": "stdout",
          "text": [
            "BS price: 16.580079495561144 ; MC price: 16.778467178344727\n"
          ]
        }
      ]
    },
    {
      "cell_type": "markdown",
      "source": [
        "# Heston Model"
      ],
      "metadata": {
        "id": "IqiKJqmwmUmR"
      }
    },
    {
      "cell_type": "code",
      "source": [
        "\n",
        "def sim_heston(n_timestamp, n_paths,dt, rho, r, kappa, theta, sigma,S0, V0):\n",
        "  key = random.PRNGKey(0)\n",
        "  Z1 = random.normal(key, (n_timestamp,n_paths))\n",
        "  Z2 = random.normal(key, (n_timestamp,n_paths))\n",
        "  Zv = Z1\n",
        "  Zs = rho*Z1 + (1 - rho**2)**0.5 * Z2\n",
        "  del Z1, Z2\n",
        "  S_list = []\n",
        "  S0_arr = jnp.array([S0]*n_paths).reshape(1,-1)\n",
        "  S_list.append(S0_arr)\n",
        "  Vt = jnp.array([V0]*n_paths)\n",
        "  for i in range(n_timestamp):\n",
        "    St = S_list[i]\n",
        "    dV = kappa*(theta - Vt)*dt + sigma*jnp.sqrt(Vt)*(dt**0.5)*Zv[i, :]\n",
        "    V_t1 = Vt + dV\n",
        "    dS = r*St*dt + jnp.sqrt(Vt)*St*(dt**0.5)*Zs[i,:]\n",
        "    S_t1 = St + dS\n",
        "    Vt = V_t1\n",
        "    S_list.append(S_t1.reshape(1,-1))\n",
        "\n",
        "  S_arr = jnp.concatenate(S_list, axis = 0)\n",
        "  return S_arr\n",
        "\n",
        "def call_option_heston_mc(T, n_paths, rho, r, kappa, theta, sigma,S0, V0, strike):\n",
        "  # simualate S at maturity\n",
        "  S_path = sim_heston(1, n_paths,1, rho, r, kappa, theta, sigma,S0, V0)\n",
        "  ST = S_path[-1, :]\n",
        "  payout = jnp.maximum(0, ST - strike)\n",
        "  price = jnp.exp(-r*T)*jnp.mean(payout)\n",
        "  return jnp.asarray(price)\n",
        "\n",
        "\n",
        "def get_heston_cfun(j, kappa, theta, rho, lam, T, q = 0):\n",
        "  a = kappa*theta\n",
        "  if j == 1:\n",
        "    uj = 1/2\n",
        "    bj = kappa + lam - rho*sigma\n",
        "  else:\n",
        "    uj = -1/2\n",
        "    bj = kappa + lam\n",
        "\n",
        "  def cfun(psi, t, xt, vt):\n",
        "    tau = T - t\n",
        "    dj = np.sqrt((bj - rho*sigma*1j*psi)**2 - sigma**2*(2*1j*uj*psi - psi**2))\n",
        "    gj = (bj - rho*sigma*1j*psi + dj)/(bj - rho*sigma*1j*psi - dj)\n",
        "\n",
        "    C = (r-q)*1j*psi*tau + a/sigma**2*((bj - rho*sigma*1j*psi + dj)*tau - 2*np.log((1-gj*np.exp(dj*tau))/(1-gj)))\n",
        "    D = (bj - rho*sigma*1j*psi + dj)/sigma**2*((1-np.exp(dj*tau))/(1-gj*np.exp(dj*tau)))\n",
        "    f =  np.exp(C + D*vt + 1j*psi*xt)\n",
        "    return f\n",
        "\n",
        "  return cfun\n",
        "\n",
        "def simpson13(x0,xn,n, f):\n",
        "    # calculating step size\n",
        "    h = (xn - x0) / n\n",
        "\n",
        "    # Finding sum\n",
        "    integration = f(x0) + f(xn)\n",
        "\n",
        "    for i in range(1,n):\n",
        "        k = x0 + i*h\n",
        "\n",
        "        if i%2 == 0:\n",
        "            integration = integration + 2 * f(k)\n",
        "        else:\n",
        "            integration = integration + 4 * f(k)\n",
        "\n",
        "    # Finding final integration value\n",
        "    integration = integration * h/3\n",
        "\n",
        "    return integration\n",
        "\n",
        "def get_Pj(xt, vt,t, log_K, j, kappa, theta, rho, lam, max_x):\n",
        "  fj = get_heston_cfun(j, kappa, theta, rho, lam, T, q = 0)\n",
        "  fj_fun = lambda psi,  : fj(psi, t, xt, vt)\n",
        "  def fun(psi):\n",
        "    return np.real((np.exp(-1j*psi*log_K)*fj_fun(psi))/(1j*psi))\n",
        "\n",
        "  int_part = simpson13(0.001,max_x,n=100_000, f=fun)\n",
        "  Pj = 1/2 + 1/np.pi*int_part\n",
        "  return Pj\n",
        "\n",
        "def get_heston_call_an(st, vt, t,T, K, kappa, theta, rho, lam=0.5):\n",
        "  tau = T - t\n",
        "\n",
        "  xt = np.log(st)\n",
        "  max_x = 100*xt\n",
        "  P1 = get_Pj(xt=xt, vt=vt,t=t, log_K=np.log(K), j=1, kappa=kappa, theta=theta, rho=rho, lam=lam, max_x = max_x)\n",
        "  P2 = get_Pj(xt=xt, vt=vt,t=t, log_K=np.log(K), j=2, kappa=kappa, theta=theta, rho=rho, lam=lam, max_x = max_x)\n",
        "  price = st*P1 - K*np.exp(-r*tau)*P2\n",
        "  return price\n",
        "\n"
      ],
      "metadata": {
        "id": "xanXYR7uZinh"
      },
      "execution_count": 36,
      "outputs": []
    },
    {
      "cell_type": "code",
      "source": [
        "lam = 1\n",
        "r = 0.05\n",
        "kappa = 1\n",
        "kappa_star = kappa + lam\n",
        "theta = 1\n",
        "theta_star = kappa*theta/(kappa + lam)\n",
        "sigma = 0.02\n",
        "S0 = 100\n",
        "V0 = 0.1\n",
        "strike = 90\n",
        "rho = 0.5\n",
        "call_heston_mc = call_option_heston_mc(T=1, n_paths=10_000, rho=rho, r=r, kappa=kappa_star, theta=theta_star, sigma=sigma,S0=S0, V0=V0, strike=strike)\n",
        "call_heston_an = get_heston_call_an(st=S0, vt=V0, t=0,T=1, K=strike, kappa=kappa, theta=theta, rho=0.5, lam=lam)"
      ],
      "metadata": {
        "id": "tMuELFjkoP1Q"
      },
      "execution_count": 43,
      "outputs": []
    },
    {
      "cell_type": "code",
      "source": [
        "print(call_heston_mc)"
      ],
      "metadata": {
        "colab": {
          "base_uri": "https://localhost:8080/"
        },
        "id": "fVBrRRPyq0Sk",
        "outputId": "50b381e6-cd6a-4595-8163-1c57911acd24"
      },
      "execution_count": 44,
      "outputs": [
        {
          "output_type": "stream",
          "name": "stdout",
          "text": [
            "24.94186\n"
          ]
        }
      ]
    },
    {
      "cell_type": "code",
      "source": [
        "print(call_heston_an)"
      ],
      "metadata": {
        "id": "1GARVPERrCwG"
      },
      "execution_count": 41,
      "outputs": []
    },
    {
      "cell_type": "code",
      "source": [],
      "metadata": {
        "colab": {
          "base_uri": "https://localhost:8080/"
        },
        "id": "tAagKc0BTNa1",
        "outputId": "cba9f09f-d5b9-4e6b-ce12-7b5bafa944f6"
      },
      "execution_count": 45,
      "outputs": [
        {
          "output_type": "stream",
          "name": "stdout",
          "text": [
            "28.817079086783593\n"
          ]
        }
      ]
    },
    {
      "cell_type": "code",
      "source": [],
      "metadata": {
        "id": "qMmRPXCzTRRO"
      },
      "execution_count": null,
      "outputs": []
    }
  ]
}