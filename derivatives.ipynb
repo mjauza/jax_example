{
  "nbformat": 4,
  "nbformat_minor": 0,
  "metadata": {
    "colab": {
      "provenance": [],
      "toc_visible": true,
      "gpuType": "T4",
      "authorship_tag": "ABX9TyP3zpCWw/afYgTOZ48Vm3Os",
      "include_colab_link": true
    },
    "kernelspec": {
      "name": "python3",
      "display_name": "Python 3"
    },
    "language_info": {
      "name": "python"
    },
    "accelerator": "GPU"
  },
  "cells": [
    {
      "cell_type": "markdown",
      "metadata": {
        "id": "view-in-github",
        "colab_type": "text"
      },
      "source": [
        "<a href=\"https://colab.research.google.com/github/mjauza/jax_example/blob/main/derivatives.ipynb\" target=\"_parent\"><img src=\"https://colab.research.google.com/assets/colab-badge.svg\" alt=\"Open In Colab\"/></a>"
      ]
    },
    {
      "cell_type": "code",
      "execution_count": 12,
      "metadata": {
        "id": "kazKtiPfMyUU"
      },
      "outputs": [],
      "source": [
        "import jax.numpy as jnp\n",
        "from jax import grad, jit, vmap\n",
        "from jax import random\n",
        "from scipy.stats import norm\n",
        "import numpy as np"
      ]
    },
    {
      "cell_type": "markdown",
      "source": [
        "# Black Scholes model"
      ],
      "metadata": {
        "id": "JlwAlUMEeyHy"
      }
    },
    {
      "cell_type": "code",
      "source": [
        "def sim_gbm(n_timestamp, N_paths, mu, sigma, dt = 1/365, S0 = 1):\n",
        "  key = random.PRNGKey(0)\n",
        "  Z = random.normal(key, (n_timestamp,N_paths))\n",
        "  arr = jnp.exp((mu - sigma**2/2)*dt + sigma*(dt)**0.5*Z)\n",
        "  S0_arr = jnp.array([S0]*N_paths).reshape(1,-1)\n",
        "  S = jnp.concatenate((S0_arr, arr), axis=0)\n",
        "  S_arr = jnp.cumprod(S, axis = 0)\n",
        "  return S_arr\n",
        "\n",
        "def call_option_mc(T, N_paths, r, sigma, strike, S0 = 1):\n",
        "  # simualate S at maturity\n",
        "  S_path = sim_gbm(1, N_paths, mu=r, sigma=sigma, dt = 1, S0 = S0)\n",
        "  ST = S_path[-1, :]\n",
        "  payout = jnp.maximum(0, ST - strike)\n",
        "  price = jnp.exp(-r*T)*jnp.mean(payout)\n",
        "  return jnp.asarray(price)\n",
        "\n",
        "def call_option_bs(T, r, sigma, strike, S0 = 1):\n",
        "  d1 = 1/(sigma*np.sqrt(T))*(np.log(S0/strike) + (r - sigma**2/2)*T)\n",
        "  d2 = d1 - sigma*np.sqrt(T)\n",
        "  price = norm.cdf(d1)*S0 - norm.cdf(d2)*strike*np.exp(-r*T)\n",
        "  return price\n",
        "\n"
      ],
      "metadata": {
        "id": "WNQQsZiaM157"
      },
      "execution_count": 13,
      "outputs": []
    },
    {
      "cell_type": "code",
      "source": [
        "T = 1\n",
        "r = 0.05\n",
        "sigma = 0.2\n",
        "S0 = 100\n",
        "strike = 90\n",
        "call_mc = call_option_mc(T = T, N_paths=100_000, r=r, sigma=sigma, strike=strike, S0 = S0)\n",
        "call_bs = call_option_bs(T=T, r=r, sigma=sigma, strike=strike, S0=S0)"
      ],
      "metadata": {
        "id": "b0oHzSiJM7lc"
      },
      "execution_count": 16,
      "outputs": []
    },
    {
      "cell_type": "code",
      "source": [
        "print(f\"BS price: {call_bs} ; MC price: {call_mc}\")"
      ],
      "metadata": {
        "colab": {
          "base_uri": "https://localhost:8080/"
        },
        "id": "KqeE5TCrZXFJ",
        "outputId": "bfc7f58f-1321-40ff-9ba1-2f7e954fc704"
      },
      "execution_count": 17,
      "outputs": [
        {
          "output_type": "stream",
          "name": "stdout",
          "text": [
            "BS price: 16.580079495561144 ; MC price: 16.778467178344727\n"
          ]
        }
      ]
    },
    {
      "cell_type": "markdown",
      "source": [
        "# Heston Model"
      ],
      "metadata": {
        "id": "IqiKJqmwmUmR"
      }
    },
    {
      "cell_type": "code",
      "source": [
        "\n",
        "def sim_heston(n_timestamp, n_paths,dt, rho, r, kappa, theta, sigma,S0, V0):\n",
        "  key = random.PRNGKey(0)\n",
        "  Z1 = random.normal(key, (n_timestamp,n_paths))\n",
        "  Z2 = random.normal(key, (n_timestamp,n_paths))\n",
        "  Zv = Z1\n",
        "  Zs = rho*Z1 + (1 - rho**2)**0.5 * Z2\n",
        "  del Z1, Z2\n",
        "  S_list = []\n",
        "  S0_arr = jnp.array([S0]*n_paths).reshape(1,-1)\n",
        "  S_list.append(S0_arr)\n",
        "  Vt = jnp.array([V0]*n_paths)\n",
        "  for i in range(n_timestamp):\n",
        "    St = S_list[i]\n",
        "    dV = kappa*(theta - Vt)*dt + sigma*jnp.sqrt(Vt)*(dt**0.5)*Zv[i, :]\n",
        "    V_t1 = Vt + dV\n",
        "    dS = r*St*dt + jnp.sqrt(Vt)*St*(dt**0.5)*Zs[i,:]\n",
        "    S_t1 = St + dS\n",
        "    Vt = V_t1\n",
        "    S_list.append(S_t1.reshape(1,-1))\n",
        "\n",
        "  S_arr = jnp.concatenate(S_list, axis = 0)\n",
        "  return S_arr\n",
        "\n",
        "def call_option_heston_mc(T, n_paths, rho, r, kappa, theta, sigma,S0, V0, strike):\n",
        "  # simualate S at maturity\n",
        "  S_path = sim_heston(1, n_paths,1, rho, r, kappa, theta, sigma,S0, V0)\n",
        "  ST = S_path[-1, :]\n",
        "  payout = jnp.maximum(0, ST - strike)\n",
        "  price = jnp.exp(-r*T)*jnp.mean(payout)\n",
        "  return jnp.asarray(price)"
      ],
      "metadata": {
        "id": "xanXYR7uZinh"
      },
      "execution_count": 24,
      "outputs": []
    },
    {
      "cell_type": "code",
      "source": [
        "call_heston_mc = call_option_heston_mc(T=1, n_paths=10_000, rho=0.5, r=0.05, kappa=1, theta=1, sigma=0.2,S0=100, V0=0.1, strike=90)"
      ],
      "metadata": {
        "id": "tMuELFjkoP1Q"
      },
      "execution_count": 25,
      "outputs": []
    },
    {
      "cell_type": "code",
      "source": [
        "print(call_heston_mc)"
      ],
      "metadata": {
        "colab": {
          "base_uri": "https://localhost:8080/"
        },
        "id": "fVBrRRPyq0Sk",
        "outputId": "1d7e1079-2771-4ba4-f295-8a233a437e76"
      },
      "execution_count": 26,
      "outputs": [
        {
          "output_type": "stream",
          "name": "stdout",
          "text": [
            "24.94186\n"
          ]
        }
      ]
    },
    {
      "cell_type": "code",
      "source": [],
      "metadata": {
        "id": "1GARVPERrCwG"
      },
      "execution_count": null,
      "outputs": []
    }
  ]
}